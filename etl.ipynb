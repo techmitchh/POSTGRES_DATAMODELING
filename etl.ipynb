{
 "cells": [
  {
   "cell_type": "markdown",
   "metadata": {},
   "source": [
    "# ETL Processes\n",
    "Use this notebook to develop the ETL process for each of your tables before completing the `etl.py` file to load the whole datasets."
   ]
  },
  {
   "cell_type": "code",
   "execution_count": 1,
   "metadata": {},
   "outputs": [],
   "source": [
    "import os\n",
    "import glob\n",
    "import psycopg2\n",
    "import numpy as np\n",
    "import pandas as pd\n",
    "from sql_queries import *\n",
    "import json"
   ]
  },
  {
   "cell_type": "code",
   "execution_count": 2,
   "metadata": {},
   "outputs": [],
   "source": [
    "conn = psycopg2.connect(\"host=127.0.0.1 dbname=sparkifydb user=student password=student\")\n",
    "cur = conn.cursor()\n"
   ]
  },
  {
   "cell_type": "code",
   "execution_count": 3,
   "metadata": {},
   "outputs": [],
   "source": [
    "def get_files(filepath):\n",
    "    all_files = []\n",
    "    for root, dirs, files in os.walk(filepath):\n",
    "        files = glob.glob(os.path.join(root,'*.json'))\n",
    "        for f in files :\n",
    "            all_files.append(os.path.abspath(f))\n",
    "    return all_files"
   ]
  },
  {
   "cell_type": "markdown",
   "metadata": {},
   "source": [
    "# Process `song_data`\n",
    "In this first part, you'll perform ETL on the first dataset, `song_data`, to create the `songs` and `artists` dimensional tables.\n",
    "\n",
    "Let's perform ETL on a single song file and load a single record into each table to start.\n",
    "- Use the `get_files` function provided above to get a list of all song JSON files in `data/song_data`\n",
    "- Select the first song in this list\n",
    "- Read the song file and view the data"
   ]
  },
  {
   "cell_type": "code",
   "execution_count": 4,
   "metadata": {},
   "outputs": [
    {
     "data": {
      "text/plain": [
       "['e:\\\\Udacity\\\\UdacityProjects\\\\postgres_datamodeling\\\\song_data\\\\A\\\\A\\\\A\\\\TRAAAAW128F429D538.json',\n",
       " 'e:\\\\Udacity\\\\UdacityProjects\\\\postgres_datamodeling\\\\song_data\\\\A\\\\A\\\\A\\\\TRAAABD128F429CF47.json',\n",
       " 'e:\\\\Udacity\\\\UdacityProjects\\\\postgres_datamodeling\\\\song_data\\\\A\\\\A\\\\A\\\\TRAAADZ128F9348C2E.json',\n",
       " 'e:\\\\Udacity\\\\UdacityProjects\\\\postgres_datamodeling\\\\song_data\\\\A\\\\A\\\\A\\\\TRAAAEF128F4273421.json',\n",
       " 'e:\\\\Udacity\\\\UdacityProjects\\\\postgres_datamodeling\\\\song_data\\\\A\\\\A\\\\A\\\\TRAAAFD128F92F423A.json',\n",
       " 'e:\\\\Udacity\\\\UdacityProjects\\\\postgres_datamodeling\\\\song_data\\\\A\\\\A\\\\A\\\\TRAAAMO128F1481E7F.json',\n",
       " 'e:\\\\Udacity\\\\UdacityProjects\\\\postgres_datamodeling\\\\song_data\\\\A\\\\A\\\\A\\\\TRAAAMQ128F1460CD3.json',\n",
       " 'e:\\\\Udacity\\\\UdacityProjects\\\\postgres_datamodeling\\\\song_data\\\\A\\\\A\\\\A\\\\TRAAAPK128E0786D96.json',\n",
       " 'e:\\\\Udacity\\\\UdacityProjects\\\\postgres_datamodeling\\\\song_data\\\\A\\\\A\\\\A\\\\TRAAARJ128F9320760.json',\n",
       " 'e:\\\\Udacity\\\\UdacityProjects\\\\postgres_datamodeling\\\\song_data\\\\A\\\\A\\\\A\\\\TRAAAVG12903CFA543.json',\n",
       " 'e:\\\\Udacity\\\\UdacityProjects\\\\postgres_datamodeling\\\\song_data\\\\A\\\\A\\\\A\\\\TRAAAVO128F93133D4.json',\n",
       " 'e:\\\\Udacity\\\\UdacityProjects\\\\postgres_datamodeling\\\\song_data\\\\A\\\\A\\\\B\\\\TRAABCL128F4286650.json',\n",
       " 'e:\\\\Udacity\\\\UdacityProjects\\\\postgres_datamodeling\\\\song_data\\\\A\\\\A\\\\B\\\\TRAABDL12903CAABBA.json',\n",
       " 'e:\\\\Udacity\\\\UdacityProjects\\\\postgres_datamodeling\\\\song_data\\\\A\\\\A\\\\B\\\\TRAABJL12903CDCF1A.json',\n",
       " 'e:\\\\Udacity\\\\UdacityProjects\\\\postgres_datamodeling\\\\song_data\\\\A\\\\A\\\\B\\\\TRAABJV128F1460C49.json',\n",
       " 'e:\\\\Udacity\\\\UdacityProjects\\\\postgres_datamodeling\\\\song_data\\\\A\\\\A\\\\B\\\\TRAABLR128F423B7E3.json',\n",
       " 'e:\\\\Udacity\\\\UdacityProjects\\\\postgres_datamodeling\\\\song_data\\\\A\\\\A\\\\B\\\\TRAABNV128F425CEE1.json',\n",
       " 'e:\\\\Udacity\\\\UdacityProjects\\\\postgres_datamodeling\\\\song_data\\\\A\\\\A\\\\B\\\\TRAABRB128F9306DD5.json',\n",
       " 'e:\\\\Udacity\\\\UdacityProjects\\\\postgres_datamodeling\\\\song_data\\\\A\\\\A\\\\B\\\\TRAABVM128F92CA9DC.json',\n",
       " 'e:\\\\Udacity\\\\UdacityProjects\\\\postgres_datamodeling\\\\song_data\\\\A\\\\A\\\\B\\\\TRAABXG128F9318EBD.json',\n",
       " 'e:\\\\Udacity\\\\UdacityProjects\\\\postgres_datamodeling\\\\song_data\\\\A\\\\A\\\\B\\\\TRAABYN12903CFD305.json',\n",
       " 'e:\\\\Udacity\\\\UdacityProjects\\\\postgres_datamodeling\\\\song_data\\\\A\\\\A\\\\B\\\\TRAABYW128F4244559.json',\n",
       " 'e:\\\\Udacity\\\\UdacityProjects\\\\postgres_datamodeling\\\\song_data\\\\A\\\\A\\\\C\\\\TRAACCG128F92E8A55.json',\n",
       " 'e:\\\\Udacity\\\\UdacityProjects\\\\postgres_datamodeling\\\\song_data\\\\A\\\\A\\\\C\\\\TRAACER128F4290F96.json',\n",
       " 'e:\\\\Udacity\\\\UdacityProjects\\\\postgres_datamodeling\\\\song_data\\\\A\\\\A\\\\C\\\\TRAACFV128F935E50B.json',\n",
       " 'e:\\\\Udacity\\\\UdacityProjects\\\\postgres_datamodeling\\\\song_data\\\\A\\\\A\\\\C\\\\TRAACHN128F1489601.json',\n",
       " 'e:\\\\Udacity\\\\UdacityProjects\\\\postgres_datamodeling\\\\song_data\\\\A\\\\A\\\\C\\\\TRAACIW12903CC0F6D.json',\n",
       " 'e:\\\\Udacity\\\\UdacityProjects\\\\postgres_datamodeling\\\\song_data\\\\A\\\\A\\\\C\\\\TRAACLV128F427E123.json',\n",
       " 'e:\\\\Udacity\\\\UdacityProjects\\\\postgres_datamodeling\\\\song_data\\\\A\\\\A\\\\C\\\\TRAACNS128F14A2DF5.json',\n",
       " 'e:\\\\Udacity\\\\UdacityProjects\\\\postgres_datamodeling\\\\song_data\\\\A\\\\A\\\\C\\\\TRAACOW128F933E35F.json',\n",
       " 'e:\\\\Udacity\\\\UdacityProjects\\\\postgres_datamodeling\\\\song_data\\\\A\\\\A\\\\C\\\\TRAACPE128F421C1B9.json',\n",
       " 'e:\\\\Udacity\\\\UdacityProjects\\\\postgres_datamodeling\\\\song_data\\\\A\\\\A\\\\C\\\\TRAACQT128F9331780.json',\n",
       " 'e:\\\\Udacity\\\\UdacityProjects\\\\postgres_datamodeling\\\\song_data\\\\A\\\\A\\\\C\\\\TRAACSL128F93462F4.json',\n",
       " 'e:\\\\Udacity\\\\UdacityProjects\\\\postgres_datamodeling\\\\song_data\\\\A\\\\A\\\\C\\\\TRAACTB12903CAAF15.json',\n",
       " 'e:\\\\Udacity\\\\UdacityProjects\\\\postgres_datamodeling\\\\song_data\\\\A\\\\A\\\\C\\\\TRAACVS128E078BE39.json',\n",
       " 'e:\\\\Udacity\\\\UdacityProjects\\\\postgres_datamodeling\\\\song_data\\\\A\\\\A\\\\C\\\\TRAACZK128F4243829.json',\n",
       " 'e:\\\\Udacity\\\\UdacityProjects\\\\postgres_datamodeling\\\\song_data\\\\A\\\\B\\\\A\\\\TRABACN128F425B784.json',\n",
       " 'e:\\\\Udacity\\\\UdacityProjects\\\\postgres_datamodeling\\\\song_data\\\\A\\\\B\\\\A\\\\TRABAFJ128F42AF24E.json',\n",
       " 'e:\\\\Udacity\\\\UdacityProjects\\\\postgres_datamodeling\\\\song_data\\\\A\\\\B\\\\A\\\\TRABAFP128F931E9A1.json',\n",
       " 'e:\\\\Udacity\\\\UdacityProjects\\\\postgres_datamodeling\\\\song_data\\\\A\\\\B\\\\A\\\\TRABAIO128F42938F9.json',\n",
       " 'e:\\\\Udacity\\\\UdacityProjects\\\\postgres_datamodeling\\\\song_data\\\\A\\\\B\\\\A\\\\TRABATO128F42627E9.json',\n",
       " 'e:\\\\Udacity\\\\UdacityProjects\\\\postgres_datamodeling\\\\song_data\\\\A\\\\B\\\\A\\\\TRABAVQ12903CBF7E0.json',\n",
       " 'e:\\\\Udacity\\\\UdacityProjects\\\\postgres_datamodeling\\\\song_data\\\\A\\\\B\\\\A\\\\TRABAWW128F4250A31.json',\n",
       " 'e:\\\\Udacity\\\\UdacityProjects\\\\postgres_datamodeling\\\\song_data\\\\A\\\\B\\\\A\\\\TRABAXL128F424FC50.json',\n",
       " 'e:\\\\Udacity\\\\UdacityProjects\\\\postgres_datamodeling\\\\song_data\\\\A\\\\B\\\\A\\\\TRABAXR128F426515F.json',\n",
       " 'e:\\\\Udacity\\\\UdacityProjects\\\\postgres_datamodeling\\\\song_data\\\\A\\\\B\\\\A\\\\TRABAXV128F92F6AE3.json',\n",
       " 'e:\\\\Udacity\\\\UdacityProjects\\\\postgres_datamodeling\\\\song_data\\\\A\\\\B\\\\A\\\\TRABAZH128F930419A.json',\n",
       " 'e:\\\\Udacity\\\\UdacityProjects\\\\postgres_datamodeling\\\\song_data\\\\A\\\\B\\\\B\\\\TRABBAM128F429D223.json',\n",
       " 'e:\\\\Udacity\\\\UdacityProjects\\\\postgres_datamodeling\\\\song_data\\\\A\\\\B\\\\B\\\\TRABBBV128F42967D7.json',\n",
       " 'e:\\\\Udacity\\\\UdacityProjects\\\\postgres_datamodeling\\\\song_data\\\\A\\\\B\\\\B\\\\TRABBJE12903CDB442.json',\n",
       " 'e:\\\\Udacity\\\\UdacityProjects\\\\postgres_datamodeling\\\\song_data\\\\A\\\\B\\\\B\\\\TRABBKX128F4285205.json',\n",
       " 'e:\\\\Udacity\\\\UdacityProjects\\\\postgres_datamodeling\\\\song_data\\\\A\\\\B\\\\B\\\\TRABBLU128F93349CF.json',\n",
       " 'e:\\\\Udacity\\\\UdacityProjects\\\\postgres_datamodeling\\\\song_data\\\\A\\\\B\\\\B\\\\TRABBNP128F932546F.json',\n",
       " 'e:\\\\Udacity\\\\UdacityProjects\\\\postgres_datamodeling\\\\song_data\\\\A\\\\B\\\\B\\\\TRABBOP128F931B50D.json',\n",
       " 'e:\\\\Udacity\\\\UdacityProjects\\\\postgres_datamodeling\\\\song_data\\\\A\\\\B\\\\B\\\\TRABBOR128F4286200.json',\n",
       " 'e:\\\\Udacity\\\\UdacityProjects\\\\postgres_datamodeling\\\\song_data\\\\A\\\\B\\\\B\\\\TRABBTA128F933D304.json',\n",
       " 'e:\\\\Udacity\\\\UdacityProjects\\\\postgres_datamodeling\\\\song_data\\\\A\\\\B\\\\B\\\\TRABBVJ128F92F7EAA.json',\n",
       " 'e:\\\\Udacity\\\\UdacityProjects\\\\postgres_datamodeling\\\\song_data\\\\A\\\\B\\\\B\\\\TRABBXU128F92FEF48.json',\n",
       " 'e:\\\\Udacity\\\\UdacityProjects\\\\postgres_datamodeling\\\\song_data\\\\A\\\\B\\\\B\\\\TRABBZN12903CD9297.json',\n",
       " 'e:\\\\Udacity\\\\UdacityProjects\\\\postgres_datamodeling\\\\song_data\\\\A\\\\B\\\\C\\\\TRABCAJ12903CDFCC2.json',\n",
       " 'e:\\\\Udacity\\\\UdacityProjects\\\\postgres_datamodeling\\\\song_data\\\\A\\\\B\\\\C\\\\TRABCEC128F426456E.json',\n",
       " 'e:\\\\Udacity\\\\UdacityProjects\\\\postgres_datamodeling\\\\song_data\\\\A\\\\B\\\\C\\\\TRABCEI128F424C983.json',\n",
       " 'e:\\\\Udacity\\\\UdacityProjects\\\\postgres_datamodeling\\\\song_data\\\\A\\\\B\\\\C\\\\TRABCFL128F149BB0D.json',\n",
       " 'e:\\\\Udacity\\\\UdacityProjects\\\\postgres_datamodeling\\\\song_data\\\\A\\\\B\\\\C\\\\TRABCIX128F4265903.json',\n",
       " 'e:\\\\Udacity\\\\UdacityProjects\\\\postgres_datamodeling\\\\song_data\\\\A\\\\B\\\\C\\\\TRABCKL128F423A778.json',\n",
       " 'e:\\\\Udacity\\\\UdacityProjects\\\\postgres_datamodeling\\\\song_data\\\\A\\\\B\\\\C\\\\TRABCPZ128F4275C32.json',\n",
       " 'e:\\\\Udacity\\\\UdacityProjects\\\\postgres_datamodeling\\\\song_data\\\\A\\\\B\\\\C\\\\TRABCRU128F423F449.json',\n",
       " 'e:\\\\Udacity\\\\UdacityProjects\\\\postgres_datamodeling\\\\song_data\\\\A\\\\B\\\\C\\\\TRABCTK128F934B224.json',\n",
       " 'e:\\\\Udacity\\\\UdacityProjects\\\\postgres_datamodeling\\\\song_data\\\\A\\\\B\\\\C\\\\TRABCUQ128E0783E2B.json',\n",
       " 'e:\\\\Udacity\\\\UdacityProjects\\\\postgres_datamodeling\\\\song_data\\\\A\\\\B\\\\C\\\\TRABCXB128F4286BD3.json',\n",
       " 'e:\\\\Udacity\\\\UdacityProjects\\\\postgres_datamodeling\\\\song_data\\\\A\\\\B\\\\C\\\\TRABCYE128F934CE1D.json']"
      ]
     },
     "execution_count": 4,
     "metadata": {},
     "output_type": "execute_result"
    }
   ],
   "source": [
    "song_files = get_files('song_data')\n",
    "song_files\n",
    "\n"
   ]
  },
  {
   "cell_type": "code",
   "execution_count": 5,
   "metadata": {},
   "outputs": [
    {
     "data": {
      "text/html": [
       "<div>\n",
       "<style scoped>\n",
       "    .dataframe tbody tr th:only-of-type {\n",
       "        vertical-align: middle;\n",
       "    }\n",
       "\n",
       "    .dataframe tbody tr th {\n",
       "        vertical-align: top;\n",
       "    }\n",
       "\n",
       "    .dataframe thead th {\n",
       "        text-align: right;\n",
       "    }\n",
       "</style>\n",
       "<table border=\"1\" class=\"dataframe\">\n",
       "  <thead>\n",
       "    <tr style=\"text-align: right;\">\n",
       "      <th></th>\n",
       "      <th>num_songs</th>\n",
       "      <th>artist_id</th>\n",
       "      <th>artist_latitude</th>\n",
       "      <th>artist_longitude</th>\n",
       "      <th>artist_location</th>\n",
       "      <th>artist_name</th>\n",
       "      <th>song_id</th>\n",
       "      <th>title</th>\n",
       "      <th>duration</th>\n",
       "      <th>year</th>\n",
       "    </tr>\n",
       "  </thead>\n",
       "  <tbody>\n",
       "    <tr>\n",
       "      <th>0</th>\n",
       "      <td>1</td>\n",
       "      <td>ARD7TVE1187B99BFB1</td>\n",
       "      <td>NaN</td>\n",
       "      <td>NaN</td>\n",
       "      <td>California - LA</td>\n",
       "      <td>Casual</td>\n",
       "      <td>SOMZWCG12A8C13C480</td>\n",
       "      <td>I Didn't Mean To</td>\n",
       "      <td>218.93179</td>\n",
       "      <td>0</td>\n",
       "    </tr>\n",
       "  </tbody>\n",
       "</table>\n",
       "</div>"
      ],
      "text/plain": [
       "   num_songs           artist_id  artist_latitude  artist_longitude  \\\n",
       "0          1  ARD7TVE1187B99BFB1              NaN               NaN   \n",
       "\n",
       "   artist_location artist_name             song_id             title  \\\n",
       "0  California - LA      Casual  SOMZWCG12A8C13C480  I Didn't Mean To   \n",
       "\n",
       "    duration  year  \n",
       "0  218.93179     0  "
      ]
     },
     "execution_count": 5,
     "metadata": {},
     "output_type": "execute_result"
    }
   ],
   "source": [
    "filepath = 'e:\\\\Udacity\\\\UdacityProjects\\\\postgres_datamodeling\\\\song_data\\\\A\\\\A\\\\A\\\\TRAAAAW128F429D538.json'\n",
    "df = pd.read_json(filepath, lines=True)\n",
    "df.head(2)"
   ]
  },
  {
   "cell_type": "markdown",
   "metadata": {},
   "source": [
    "## #1: `songs` Table\n",
    "#### Extract Data for Songs Table\n",
    "- Select columns for song ID, title, artist ID, year, and duration\n",
    "- Use `df.values` to select just the values from the dataframe\n",
    "- Index to select the first (only) record in the dataframe\n",
    "- Convert the array to a list and set it to `song_data`"
   ]
  },
  {
   "cell_type": "code",
   "execution_count": 6,
   "metadata": {},
   "outputs": [
    {
     "data": {
      "text/plain": [
       "[array(['SOMZWCG12A8C13C480', \"I Didn't Mean To\", 'ARD7TVE1187B99BFB1', 0,\n",
       "        218.93179], dtype=object)]"
      ]
     },
     "execution_count": 6,
     "metadata": {},
     "output_type": "execute_result"
    }
   ],
   "source": [
    "song_col = df[['song_id','title','artist_id','year','duration']].copy()\n",
    "song_data = list(song_col.values)\n",
    "song_data\n"
   ]
  },
  {
   "cell_type": "markdown",
   "metadata": {},
   "source": [
    "#### Insert Record into Song Table\n",
    "Implement the `song_table_insert` query in `sql_queries.py` and run the cell below to insert a record for this song into the `songs` table. Remember to run `create_tables.py` before running the cell below to ensure you've created/resetted the `songs` table in the sparkify database."
   ]
  },
  {
   "cell_type": "code",
   "execution_count": 7,
   "metadata": {},
   "outputs": [],
   "source": [
    "for data in song_data:\n",
    "    cur.execute(song_table_insert, data)\n",
    "    conn.commit()"
   ]
  },
  {
   "cell_type": "code",
   "execution_count": 8,
   "metadata": {},
   "outputs": [
    {
     "data": {
      "text/plain": [
       "('SOMZWCG12A8C13C480', \"I Didn't Mean To\", 'ARD7TVE1187B99BFB1', 0, 218.93179)"
      ]
     },
     "execution_count": 8,
     "metadata": {},
     "output_type": "execute_result"
    }
   ],
   "source": [
    "cur.execute(\"select * from song_table limit 10\")\n",
    "cur.fetchone()"
   ]
  },
  {
   "cell_type": "markdown",
   "metadata": {},
   "source": [
    "Run `test.ipynb` to see if you've successfully added a record to this table."
   ]
  },
  {
   "cell_type": "markdown",
   "metadata": {},
   "source": [
    "## #2: `artists` Table\n",
    "#### Extract Data for Artists Table\n",
    "- Select columns for artist ID, name, location, latitude, and longitude\n",
    "- Use `df.values` to select just the values from the dataframe\n",
    "- Index to select the first (only) record in the dataframe\n",
    "- Convert the array to a list and set it to `artist_data`"
   ]
  },
  {
   "cell_type": "code",
   "execution_count": 9,
   "metadata": {},
   "outputs": [
    {
     "data": {
      "text/html": [
       "<div>\n",
       "<style scoped>\n",
       "    .dataframe tbody tr th:only-of-type {\n",
       "        vertical-align: middle;\n",
       "    }\n",
       "\n",
       "    .dataframe tbody tr th {\n",
       "        vertical-align: top;\n",
       "    }\n",
       "\n",
       "    .dataframe thead th {\n",
       "        text-align: right;\n",
       "    }\n",
       "</style>\n",
       "<table border=\"1\" class=\"dataframe\">\n",
       "  <thead>\n",
       "    <tr style=\"text-align: right;\">\n",
       "      <th></th>\n",
       "      <th>num_songs</th>\n",
       "      <th>artist_id</th>\n",
       "      <th>artist_latitude</th>\n",
       "      <th>artist_longitude</th>\n",
       "      <th>artist_location</th>\n",
       "      <th>artist_name</th>\n",
       "      <th>song_id</th>\n",
       "      <th>title</th>\n",
       "      <th>duration</th>\n",
       "      <th>year</th>\n",
       "    </tr>\n",
       "  </thead>\n",
       "  <tbody>\n",
       "    <tr>\n",
       "      <th>0</th>\n",
       "      <td>1</td>\n",
       "      <td>ARD7TVE1187B99BFB1</td>\n",
       "      <td>NaN</td>\n",
       "      <td>NaN</td>\n",
       "      <td>California - LA</td>\n",
       "      <td>Casual</td>\n",
       "      <td>SOMZWCG12A8C13C480</td>\n",
       "      <td>I Didn't Mean To</td>\n",
       "      <td>218.93179</td>\n",
       "      <td>0</td>\n",
       "    </tr>\n",
       "  </tbody>\n",
       "</table>\n",
       "</div>"
      ],
      "text/plain": [
       "   num_songs           artist_id  artist_latitude  artist_longitude  \\\n",
       "0          1  ARD7TVE1187B99BFB1              NaN               NaN   \n",
       "\n",
       "   artist_location artist_name             song_id             title  \\\n",
       "0  California - LA      Casual  SOMZWCG12A8C13C480  I Didn't Mean To   \n",
       "\n",
       "    duration  year  \n",
       "0  218.93179     0  "
      ]
     },
     "execution_count": 9,
     "metadata": {},
     "output_type": "execute_result"
    }
   ],
   "source": [
    "df.head(2)"
   ]
  },
  {
   "cell_type": "code",
   "execution_count": 10,
   "metadata": {},
   "outputs": [
    {
     "data": {
      "text/plain": [
       "[['ARD7TVE1187B99BFB1', 'Casual', 'California - LA', nan, nan]]"
      ]
     },
     "execution_count": 10,
     "metadata": {},
     "output_type": "execute_result"
    }
   ],
   "source": [
    "art_col = df[['artist_id','artist_name','artist_location','artist_latitude','artist_longitude']].values.tolist()\n",
    "artist_data = art_col\n",
    "artist_data"
   ]
  },
  {
   "cell_type": "markdown",
   "metadata": {},
   "source": [
    "#### Insert Record into Artist Table\n",
    "Implement the `artist_table_insert` query in `sql_queries.py` and run the cell below to insert a record for this song's artist into the `artists` table. Remember to run `create_tables.py` before running the cell below to ensure you've created/resetted the `artists` table in the sparkify database."
   ]
  },
  {
   "cell_type": "code",
   "execution_count": 11,
   "metadata": {},
   "outputs": [],
   "source": [
    "for data in artist_data:\n",
    "    cur.execute(artist_table_insert, data)\n",
    "    conn.commit()"
   ]
  },
  {
   "cell_type": "markdown",
   "metadata": {},
   "source": [
    "Run `test.ipynb` to see if you've successfully added a record to this table."
   ]
  },
  {
   "cell_type": "markdown",
   "metadata": {},
   "source": [
    "# Process `log_data`\n",
    "In this part, you'll perform ETL on the second dataset, `log_data`, to create the `time` and `users` dimensional tables, as well as the `songplays` fact table.\n",
    "\n",
    "Let's perform ETL on a single log file and load a single record into each table.\n",
    "- Use the `get_files` function provided above to get a list of all log JSON files in `data/log_data`\n",
    "- Select the first log file in this list\n",
    "- Read the log file and view the data"
   ]
  },
  {
   "cell_type": "code",
   "execution_count": 12,
   "metadata": {},
   "outputs": [
    {
     "data": {
      "text/plain": [
       "['e:\\\\Udacity\\\\UdacityProjects\\\\postgres_datamodeling\\\\log_data\\\\2018\\\\11\\\\2018-11-01-events.json',\n",
       " 'e:\\\\Udacity\\\\UdacityProjects\\\\postgres_datamodeling\\\\log_data\\\\2018\\\\11\\\\2018-11-02-events.json',\n",
       " 'e:\\\\Udacity\\\\UdacityProjects\\\\postgres_datamodeling\\\\log_data\\\\2018\\\\11\\\\2018-11-03-events.json',\n",
       " 'e:\\\\Udacity\\\\UdacityProjects\\\\postgres_datamodeling\\\\log_data\\\\2018\\\\11\\\\2018-11-04-events.json',\n",
       " 'e:\\\\Udacity\\\\UdacityProjects\\\\postgres_datamodeling\\\\log_data\\\\2018\\\\11\\\\2018-11-05-events.json',\n",
       " 'e:\\\\Udacity\\\\UdacityProjects\\\\postgres_datamodeling\\\\log_data\\\\2018\\\\11\\\\2018-11-06-events.json',\n",
       " 'e:\\\\Udacity\\\\UdacityProjects\\\\postgres_datamodeling\\\\log_data\\\\2018\\\\11\\\\2018-11-07-events.json',\n",
       " 'e:\\\\Udacity\\\\UdacityProjects\\\\postgres_datamodeling\\\\log_data\\\\2018\\\\11\\\\2018-11-08-events.json',\n",
       " 'e:\\\\Udacity\\\\UdacityProjects\\\\postgres_datamodeling\\\\log_data\\\\2018\\\\11\\\\2018-11-09-events.json',\n",
       " 'e:\\\\Udacity\\\\UdacityProjects\\\\postgres_datamodeling\\\\log_data\\\\2018\\\\11\\\\2018-11-10-events.json',\n",
       " 'e:\\\\Udacity\\\\UdacityProjects\\\\postgres_datamodeling\\\\log_data\\\\2018\\\\11\\\\2018-11-11-events.json',\n",
       " 'e:\\\\Udacity\\\\UdacityProjects\\\\postgres_datamodeling\\\\log_data\\\\2018\\\\11\\\\2018-11-12-events.json',\n",
       " 'e:\\\\Udacity\\\\UdacityProjects\\\\postgres_datamodeling\\\\log_data\\\\2018\\\\11\\\\2018-11-13-events.json',\n",
       " 'e:\\\\Udacity\\\\UdacityProjects\\\\postgres_datamodeling\\\\log_data\\\\2018\\\\11\\\\2018-11-14-events.json',\n",
       " 'e:\\\\Udacity\\\\UdacityProjects\\\\postgres_datamodeling\\\\log_data\\\\2018\\\\11\\\\2018-11-15-events.json',\n",
       " 'e:\\\\Udacity\\\\UdacityProjects\\\\postgres_datamodeling\\\\log_data\\\\2018\\\\11\\\\2018-11-16-events.json',\n",
       " 'e:\\\\Udacity\\\\UdacityProjects\\\\postgres_datamodeling\\\\log_data\\\\2018\\\\11\\\\2018-11-17-events.json',\n",
       " 'e:\\\\Udacity\\\\UdacityProjects\\\\postgres_datamodeling\\\\log_data\\\\2018\\\\11\\\\2018-11-18-events.json',\n",
       " 'e:\\\\Udacity\\\\UdacityProjects\\\\postgres_datamodeling\\\\log_data\\\\2018\\\\11\\\\2018-11-19-events.json',\n",
       " 'e:\\\\Udacity\\\\UdacityProjects\\\\postgres_datamodeling\\\\log_data\\\\2018\\\\11\\\\2018-11-20-events.json',\n",
       " 'e:\\\\Udacity\\\\UdacityProjects\\\\postgres_datamodeling\\\\log_data\\\\2018\\\\11\\\\2018-11-21-events.json',\n",
       " 'e:\\\\Udacity\\\\UdacityProjects\\\\postgres_datamodeling\\\\log_data\\\\2018\\\\11\\\\2018-11-22-events.json',\n",
       " 'e:\\\\Udacity\\\\UdacityProjects\\\\postgres_datamodeling\\\\log_data\\\\2018\\\\11\\\\2018-11-23-events.json',\n",
       " 'e:\\\\Udacity\\\\UdacityProjects\\\\postgres_datamodeling\\\\log_data\\\\2018\\\\11\\\\2018-11-24-events.json',\n",
       " 'e:\\\\Udacity\\\\UdacityProjects\\\\postgres_datamodeling\\\\log_data\\\\2018\\\\11\\\\2018-11-25-events.json',\n",
       " 'e:\\\\Udacity\\\\UdacityProjects\\\\postgres_datamodeling\\\\log_data\\\\2018\\\\11\\\\2018-11-26-events.json',\n",
       " 'e:\\\\Udacity\\\\UdacityProjects\\\\postgres_datamodeling\\\\log_data\\\\2018\\\\11\\\\2018-11-27-events.json',\n",
       " 'e:\\\\Udacity\\\\UdacityProjects\\\\postgres_datamodeling\\\\log_data\\\\2018\\\\11\\\\2018-11-28-events.json',\n",
       " 'e:\\\\Udacity\\\\UdacityProjects\\\\postgres_datamodeling\\\\log_data\\\\2018\\\\11\\\\2018-11-29-events.json',\n",
       " 'e:\\\\Udacity\\\\UdacityProjects\\\\postgres_datamodeling\\\\log_data\\\\2018\\\\11\\\\2018-11-30-events.json']"
      ]
     },
     "execution_count": 12,
     "metadata": {},
     "output_type": "execute_result"
    }
   ],
   "source": [
    "log_files = get_files('log_data')\n",
    "log_files"
   ]
  },
  {
   "cell_type": "code",
   "execution_count": 13,
   "metadata": {},
   "outputs": [],
   "source": [
    "filepath = 'e:\\\\Udacity\\\\UdacityProjects\\\\postgres_datamodeling\\\\log_data\\\\2018\\\\11\\\\2018-11-01-events.json'"
   ]
  },
  {
   "cell_type": "code",
   "execution_count": 14,
   "metadata": {},
   "outputs": [
    {
     "data": {
      "text/html": [
       "<div>\n",
       "<style scoped>\n",
       "    .dataframe tbody tr th:only-of-type {\n",
       "        vertical-align: middle;\n",
       "    }\n",
       "\n",
       "    .dataframe tbody tr th {\n",
       "        vertical-align: top;\n",
       "    }\n",
       "\n",
       "    .dataframe thead th {\n",
       "        text-align: right;\n",
       "    }\n",
       "</style>\n",
       "<table border=\"1\" class=\"dataframe\">\n",
       "  <thead>\n",
       "    <tr style=\"text-align: right;\">\n",
       "      <th></th>\n",
       "      <th>artist</th>\n",
       "      <th>auth</th>\n",
       "      <th>firstName</th>\n",
       "      <th>gender</th>\n",
       "      <th>itemInSession</th>\n",
       "      <th>lastName</th>\n",
       "      <th>length</th>\n",
       "      <th>level</th>\n",
       "      <th>location</th>\n",
       "      <th>method</th>\n",
       "      <th>page</th>\n",
       "      <th>registration</th>\n",
       "      <th>sessionId</th>\n",
       "      <th>song</th>\n",
       "      <th>status</th>\n",
       "      <th>ts</th>\n",
       "      <th>userAgent</th>\n",
       "      <th>userId</th>\n",
       "    </tr>\n",
       "  </thead>\n",
       "  <tbody>\n",
       "    <tr>\n",
       "      <th>0</th>\n",
       "      <td>None</td>\n",
       "      <td>Logged In</td>\n",
       "      <td>Walter</td>\n",
       "      <td>M</td>\n",
       "      <td>0</td>\n",
       "      <td>Frye</td>\n",
       "      <td>NaN</td>\n",
       "      <td>free</td>\n",
       "      <td>San Francisco-Oakland-Hayward, CA</td>\n",
       "      <td>GET</td>\n",
       "      <td>Home</td>\n",
       "      <td>1540919166796</td>\n",
       "      <td>38</td>\n",
       "      <td>None</td>\n",
       "      <td>200</td>\n",
       "      <td>1541105830796</td>\n",
       "      <td>\"Mozilla/5.0 (Macintosh; Intel Mac OS X 10_9_4...</td>\n",
       "      <td>39</td>\n",
       "    </tr>\n",
       "    <tr>\n",
       "      <th>1</th>\n",
       "      <td>None</td>\n",
       "      <td>Logged In</td>\n",
       "      <td>Kaylee</td>\n",
       "      <td>F</td>\n",
       "      <td>0</td>\n",
       "      <td>Summers</td>\n",
       "      <td>NaN</td>\n",
       "      <td>free</td>\n",
       "      <td>Phoenix-Mesa-Scottsdale, AZ</td>\n",
       "      <td>GET</td>\n",
       "      <td>Home</td>\n",
       "      <td>1540344794796</td>\n",
       "      <td>139</td>\n",
       "      <td>None</td>\n",
       "      <td>200</td>\n",
       "      <td>1541106106796</td>\n",
       "      <td>\"Mozilla/5.0 (Windows NT 6.1; WOW64) AppleWebK...</td>\n",
       "      <td>8</td>\n",
       "    </tr>\n",
       "  </tbody>\n",
       "</table>\n",
       "</div>"
      ],
      "text/plain": [
       "  artist       auth firstName gender  itemInSession lastName  length level  \\\n",
       "0   None  Logged In    Walter      M              0     Frye     NaN  free   \n",
       "1   None  Logged In    Kaylee      F              0  Summers     NaN  free   \n",
       "\n",
       "                            location method  page   registration  sessionId  \\\n",
       "0  San Francisco-Oakland-Hayward, CA    GET  Home  1540919166796         38   \n",
       "1        Phoenix-Mesa-Scottsdale, AZ    GET  Home  1540344794796        139   \n",
       "\n",
       "   song  status             ts  \\\n",
       "0  None     200  1541105830796   \n",
       "1  None     200  1541106106796   \n",
       "\n",
       "                                           userAgent  userId  \n",
       "0  \"Mozilla/5.0 (Macintosh; Intel Mac OS X 10_9_4...      39  \n",
       "1  \"Mozilla/5.0 (Windows NT 6.1; WOW64) AppleWebK...       8  "
      ]
     },
     "execution_count": 14,
     "metadata": {},
     "output_type": "execute_result"
    }
   ],
   "source": [
    "df = pd.read_json(filepath, lines=True)\n",
    "df.head(2)"
   ]
  },
  {
   "cell_type": "markdown",
   "metadata": {},
   "source": [
    "## #3: `time` Table\n",
    "#### Extract Data for Time Table\n",
    "- Filter records by `NextSong` action\n",
    "- Convert the `ts` timestamp column to datetime\n",
    "  - Hint: the current timestamp is in milliseconds\n",
    "- Extract the timestamp, hour, day, week of year, month, year, and weekday from the `ts` column and set `time_data` to a list containing these values in order\n",
    "  - Hint: use pandas' [`dt` attribute](https://pandas.pydata.org/pandas-docs/stable/reference/api/pandas.Series.dt.html) to access easily datetimelike properties.\n",
    "- Specify labels for these columns and set to `column_labels`\n",
    "- Create a dataframe, `time_df,` containing the time data for this file by combining `column_labels` and `time_data` into a dictionary and converting this into a dataframe"
   ]
  },
  {
   "cell_type": "code",
   "execution_count": 15,
   "metadata": {},
   "outputs": [],
   "source": [
    "# Convert ts to datetime. from milliseconds\n",
    "df['ts'] = pd.to_datetime(df['ts'], unit='ms') # changes timstamp from ms to datetime timestamp\n",
    "# df.rename(columns = {'timestamp':'ts'}, inplace = True) # rename ts column to timestamp\n"
   ]
  },
  {
   "cell_type": "code",
   "execution_count": 16,
   "metadata": {},
   "outputs": [
    {
     "data": {
      "text/html": [
       "<div>\n",
       "<style scoped>\n",
       "    .dataframe tbody tr th:only-of-type {\n",
       "        vertical-align: middle;\n",
       "    }\n",
       "\n",
       "    .dataframe tbody tr th {\n",
       "        vertical-align: top;\n",
       "    }\n",
       "\n",
       "    .dataframe thead th {\n",
       "        text-align: right;\n",
       "    }\n",
       "</style>\n",
       "<table border=\"1\" class=\"dataframe\">\n",
       "  <thead>\n",
       "    <tr style=\"text-align: right;\">\n",
       "      <th></th>\n",
       "      <th>artist</th>\n",
       "      <th>auth</th>\n",
       "      <th>firstName</th>\n",
       "      <th>gender</th>\n",
       "      <th>itemInSession</th>\n",
       "      <th>lastName</th>\n",
       "      <th>length</th>\n",
       "      <th>level</th>\n",
       "      <th>location</th>\n",
       "      <th>method</th>\n",
       "      <th>page</th>\n",
       "      <th>registration</th>\n",
       "      <th>sessionId</th>\n",
       "      <th>song</th>\n",
       "      <th>status</th>\n",
       "      <th>ts</th>\n",
       "      <th>userAgent</th>\n",
       "      <th>userId</th>\n",
       "    </tr>\n",
       "  </thead>\n",
       "  <tbody>\n",
       "    <tr>\n",
       "      <th>2</th>\n",
       "      <td>Des'ree</td>\n",
       "      <td>Logged In</td>\n",
       "      <td>Kaylee</td>\n",
       "      <td>F</td>\n",
       "      <td>1</td>\n",
       "      <td>Summers</td>\n",
       "      <td>246.30812</td>\n",
       "      <td>free</td>\n",
       "      <td>Phoenix-Mesa-Scottsdale, AZ</td>\n",
       "      <td>PUT</td>\n",
       "      <td>NextSong</td>\n",
       "      <td>1540344794796</td>\n",
       "      <td>139</td>\n",
       "      <td>You Gotta Be</td>\n",
       "      <td>200</td>\n",
       "      <td>2018-11-01 21:01:46.796</td>\n",
       "      <td>\"Mozilla/5.0 (Windows NT 6.1; WOW64) AppleWebK...</td>\n",
       "      <td>8</td>\n",
       "    </tr>\n",
       "    <tr>\n",
       "      <th>4</th>\n",
       "      <td>Mr Oizo</td>\n",
       "      <td>Logged In</td>\n",
       "      <td>Kaylee</td>\n",
       "      <td>F</td>\n",
       "      <td>3</td>\n",
       "      <td>Summers</td>\n",
       "      <td>144.03873</td>\n",
       "      <td>free</td>\n",
       "      <td>Phoenix-Mesa-Scottsdale, AZ</td>\n",
       "      <td>PUT</td>\n",
       "      <td>NextSong</td>\n",
       "      <td>1540344794796</td>\n",
       "      <td>139</td>\n",
       "      <td>Flat 55</td>\n",
       "      <td>200</td>\n",
       "      <td>2018-11-01 21:05:52.796</td>\n",
       "      <td>\"Mozilla/5.0 (Windows NT 6.1; WOW64) AppleWebK...</td>\n",
       "      <td>8</td>\n",
       "    </tr>\n",
       "    <tr>\n",
       "      <th>5</th>\n",
       "      <td>Tamba Trio</td>\n",
       "      <td>Logged In</td>\n",
       "      <td>Kaylee</td>\n",
       "      <td>F</td>\n",
       "      <td>4</td>\n",
       "      <td>Summers</td>\n",
       "      <td>177.18812</td>\n",
       "      <td>free</td>\n",
       "      <td>Phoenix-Mesa-Scottsdale, AZ</td>\n",
       "      <td>PUT</td>\n",
       "      <td>NextSong</td>\n",
       "      <td>1540344794796</td>\n",
       "      <td>139</td>\n",
       "      <td>Quem Quiser Encontrar O Amor</td>\n",
       "      <td>200</td>\n",
       "      <td>2018-11-01 21:08:16.796</td>\n",
       "      <td>\"Mozilla/5.0 (Windows NT 6.1; WOW64) AppleWebK...</td>\n",
       "      <td>8</td>\n",
       "    </tr>\n",
       "  </tbody>\n",
       "</table>\n",
       "</div>"
      ],
      "text/plain": [
       "       artist       auth firstName gender  itemInSession lastName     length  \\\n",
       "2     Des'ree  Logged In    Kaylee      F              1  Summers  246.30812   \n",
       "4     Mr Oizo  Logged In    Kaylee      F              3  Summers  144.03873   \n",
       "5  Tamba Trio  Logged In    Kaylee      F              4  Summers  177.18812   \n",
       "\n",
       "  level                     location method      page   registration  \\\n",
       "2  free  Phoenix-Mesa-Scottsdale, AZ    PUT  NextSong  1540344794796   \n",
       "4  free  Phoenix-Mesa-Scottsdale, AZ    PUT  NextSong  1540344794796   \n",
       "5  free  Phoenix-Mesa-Scottsdale, AZ    PUT  NextSong  1540344794796   \n",
       "\n",
       "   sessionId                          song  status                      ts  \\\n",
       "2        139                  You Gotta Be     200 2018-11-01 21:01:46.796   \n",
       "4        139                       Flat 55     200 2018-11-01 21:05:52.796   \n",
       "5        139  Quem Quiser Encontrar O Amor     200 2018-11-01 21:08:16.796   \n",
       "\n",
       "                                           userAgent  userId  \n",
       "2  \"Mozilla/5.0 (Windows NT 6.1; WOW64) AppleWebK...       8  \n",
       "4  \"Mozilla/5.0 (Windows NT 6.1; WOW64) AppleWebK...       8  \n",
       "5  \"Mozilla/5.0 (Windows NT 6.1; WOW64) AppleWebK...       8  "
      ]
     },
     "execution_count": 16,
     "metadata": {},
     "output_type": "execute_result"
    }
   ],
   "source": [
    "# Filter Dataframe based on NextSong being in page column\n",
    "df = df[df.page.isin(['NextSong'])]\n",
    "df.head(3)"
   ]
  },
  {
   "cell_type": "code",
   "execution_count": 17,
   "metadata": {},
   "outputs": [],
   "source": [
    "# Extract the timestamp, hour, day, week of year, month, year, and weekday from the `ts` column and set `time_data` to a list containing these values in order\n",
    "\n",
    "df['start_time'] = df['ts'].dt.strftime('%H:%M:%S.%f')\n",
    "\n",
    "start_time = df['start_time']\n",
    "hour = df['ts'].dt.hour\n",
    "day = df['ts'].dt.day  \n",
    "weekofyear = df['ts'].dt.strftime('%W')\n",
    "month = df['ts'].dt.month\n",
    "year = df['ts'].dt.year\n",
    "weekday = df['ts'].dt.dayofweek # The day of the week with Monday=0, Sunday=6.\n",
    "\n",
    "\n",
    "# time_data\n",
    "time_data = [start_time, hour, day, weekofyear, month, year, weekday]\n",
    "\n",
    "column_labels = ('start_time','hour','day','weekofyear','month','year','weekday')\n"
   ]
  },
  {
   "cell_type": "code",
   "execution_count": 18,
   "metadata": {},
   "outputs": [
    {
     "data": {
      "text/html": [
       "<div>\n",
       "<style scoped>\n",
       "    .dataframe tbody tr th:only-of-type {\n",
       "        vertical-align: middle;\n",
       "    }\n",
       "\n",
       "    .dataframe tbody tr th {\n",
       "        vertical-align: top;\n",
       "    }\n",
       "\n",
       "    .dataframe thead th {\n",
       "        text-align: right;\n",
       "    }\n",
       "</style>\n",
       "<table border=\"1\" class=\"dataframe\">\n",
       "  <thead>\n",
       "    <tr style=\"text-align: right;\">\n",
       "      <th></th>\n",
       "      <th>start_time</th>\n",
       "      <th>hour</th>\n",
       "      <th>day</th>\n",
       "      <th>weekofyear</th>\n",
       "      <th>month</th>\n",
       "      <th>year</th>\n",
       "      <th>weekday</th>\n",
       "    </tr>\n",
       "  </thead>\n",
       "  <tbody>\n",
       "    <tr>\n",
       "      <th>2</th>\n",
       "      <td>21:01:46.796000</td>\n",
       "      <td>21</td>\n",
       "      <td>1</td>\n",
       "      <td>44</td>\n",
       "      <td>11</td>\n",
       "      <td>2018</td>\n",
       "      <td>3</td>\n",
       "    </tr>\n",
       "    <tr>\n",
       "      <th>4</th>\n",
       "      <td>21:05:52.796000</td>\n",
       "      <td>21</td>\n",
       "      <td>1</td>\n",
       "      <td>44</td>\n",
       "      <td>11</td>\n",
       "      <td>2018</td>\n",
       "      <td>3</td>\n",
       "    </tr>\n",
       "    <tr>\n",
       "      <th>5</th>\n",
       "      <td>21:08:16.796000</td>\n",
       "      <td>21</td>\n",
       "      <td>1</td>\n",
       "      <td>44</td>\n",
       "      <td>11</td>\n",
       "      <td>2018</td>\n",
       "      <td>3</td>\n",
       "    </tr>\n",
       "    <tr>\n",
       "      <th>6</th>\n",
       "      <td>21:11:13.796000</td>\n",
       "      <td>21</td>\n",
       "      <td>1</td>\n",
       "      <td>44</td>\n",
       "      <td>11</td>\n",
       "      <td>2018</td>\n",
       "      <td>3</td>\n",
       "    </tr>\n",
       "    <tr>\n",
       "      <th>7</th>\n",
       "      <td>21:17:33.796000</td>\n",
       "      <td>21</td>\n",
       "      <td>1</td>\n",
       "      <td>44</td>\n",
       "      <td>11</td>\n",
       "      <td>2018</td>\n",
       "      <td>3</td>\n",
       "    </tr>\n",
       "  </tbody>\n",
       "</table>\n",
       "</div>"
      ],
      "text/plain": [
       "        start_time  hour  day weekofyear  month  year  weekday\n",
       "2  21:01:46.796000    21    1         44     11  2018        3\n",
       "4  21:05:52.796000    21    1         44     11  2018        3\n",
       "5  21:08:16.796000    21    1         44     11  2018        3\n",
       "6  21:11:13.796000    21    1         44     11  2018        3\n",
       "7  21:17:33.796000    21    1         44     11  2018        3"
      ]
     },
     "execution_count": 18,
     "metadata": {},
     "output_type": "execute_result"
    }
   ],
   "source": [
    "column_data = {column_labels[0]: pd.Series(time_data[0]),\n",
    "                column_labels[1]: pd.Series(time_data[1]),\n",
    "                column_labels[2]: pd.Series(time_data[2]),\n",
    "                column_labels[3]: pd.Series(time_data[3]),\n",
    "                column_labels[4]: pd.Series(time_data[4]),\n",
    "                column_labels[5]: pd.Series(time_data[5]),\n",
    "                column_labels[6]: pd.Series(time_data[6])}\n",
    "time_df = pd.DataFrame(column_data)\n",
    "time_df.head()"
   ]
  },
  {
   "cell_type": "markdown",
   "metadata": {},
   "source": [
    "#### Insert Records into Time Table\n",
    "Implement the `time_table_insert` query in `sql_queries.py` and run the cell below to insert records for the timestamps in this log file into the `time` table. Remember to run `create_tables.py` before running the cell below to ensure you've created/resetted the `time` table in the sparkify database."
   ]
  },
  {
   "cell_type": "code",
   "execution_count": 19,
   "metadata": {},
   "outputs": [],
   "source": [
    "\n",
    "for i, row in time_df.iterrows():\n",
    "    cur.execute(time_table_insert, list(row))\n",
    "    conn.commit()\n",
    "   "
   ]
  },
  {
   "cell_type": "markdown",
   "metadata": {},
   "source": [
    "Run `test.ipynb` to see if you've successfully added records to this table."
   ]
  },
  {
   "cell_type": "markdown",
   "metadata": {},
   "source": [
    "## #4: `users` Table\n",
    "#### Extract Data for Users Table\n",
    "- Select columns for user ID, first name, last name, gender and level and set to `user_df`"
   ]
  },
  {
   "cell_type": "code",
   "execution_count": 2,
   "metadata": {},
   "outputs": [
    {
     "ename": "NameError",
     "evalue": "name 'df' is not defined",
     "output_type": "error",
     "traceback": [
      "\u001b[1;31m---------------------------------------------------------------------------\u001b[0m",
      "\u001b[1;31mNameError\u001b[0m                                 Traceback (most recent call last)",
      "\u001b[1;32m~\\AppData\\Local\\Temp/ipykernel_11576/1082425739.py\u001b[0m in \u001b[0;36m<module>\u001b[1;34m\u001b[0m\n\u001b[1;32m----> 1\u001b[1;33m \u001b[0muser_df\u001b[0m \u001b[1;33m=\u001b[0m \u001b[0mdf\u001b[0m\u001b[1;33m[\u001b[0m\u001b[1;33m[\u001b[0m\u001b[1;34m'userId'\u001b[0m\u001b[1;33m,\u001b[0m\u001b[1;34m'firstName'\u001b[0m\u001b[1;33m,\u001b[0m\u001b[1;34m'lastName'\u001b[0m\u001b[1;33m,\u001b[0m\u001b[1;34m'gender'\u001b[0m\u001b[1;33m,\u001b[0m\u001b[1;34m'level'\u001b[0m\u001b[1;33m]\u001b[0m\u001b[1;33m]\u001b[0m\u001b[1;33m\u001b[0m\u001b[1;33m\u001b[0m\u001b[0m\n\u001b[0m\u001b[0;32m      2\u001b[0m \u001b[0muser_df\u001b[0m\u001b[1;33m\u001b[0m\u001b[1;33m\u001b[0m\u001b[0m\n",
      "\u001b[1;31mNameError\u001b[0m: name 'df' is not defined"
     ]
    }
   ],
   "source": [
    "user_df = df[['userId','firstName','lastName','gender','level']]\n",
    "user_df"
   ]
  },
  {
   "cell_type": "markdown",
   "metadata": {},
   "source": [
    "#### Insert Records into Users Table\n",
    "Implement the `user_table_insert` query in `sql_queries.py` and run the cell below to insert records for the users in this log file into the `users` table. Remember to run `create_tables.py` before running the cell below to ensure you've created/resetted the `users` table in the sparkify database."
   ]
  },
  {
   "cell_type": "code",
   "execution_count": 1,
   "metadata": {},
   "outputs": [
    {
     "ename": "NameError",
     "evalue": "name 'user_df' is not defined",
     "output_type": "error",
     "traceback": [
      "\u001b[1;31m---------------------------------------------------------------------------\u001b[0m",
      "\u001b[1;31mNameError\u001b[0m                                 Traceback (most recent call last)",
      "\u001b[1;32m~\\AppData\\Local\\Temp/ipykernel_11576/2467034118.py\u001b[0m in \u001b[0;36m<module>\u001b[1;34m\u001b[0m\n\u001b[1;32m----> 1\u001b[1;33m \u001b[1;32mfor\u001b[0m \u001b[0mi\u001b[0m\u001b[1;33m,\u001b[0m \u001b[0mrow\u001b[0m \u001b[1;32min\u001b[0m \u001b[0muser_df\u001b[0m\u001b[1;33m.\u001b[0m\u001b[0miterrows\u001b[0m\u001b[1;33m(\u001b[0m\u001b[1;33m)\u001b[0m\u001b[1;33m:\u001b[0m\u001b[1;33m\u001b[0m\u001b[1;33m\u001b[0m\u001b[0m\n\u001b[0m\u001b[0;32m      2\u001b[0m     \u001b[0mcur\u001b[0m\u001b[1;33m.\u001b[0m\u001b[0mexecute\u001b[0m\u001b[1;33m(\u001b[0m\u001b[0muser_table_insert\u001b[0m\u001b[1;33m,\u001b[0m \u001b[0mrow\u001b[0m\u001b[1;33m)\u001b[0m\u001b[1;33m\u001b[0m\u001b[1;33m\u001b[0m\u001b[0m\n\u001b[0;32m      3\u001b[0m     \u001b[0mconn\u001b[0m\u001b[1;33m.\u001b[0m\u001b[0mcommit\u001b[0m\u001b[1;33m(\u001b[0m\u001b[1;33m)\u001b[0m\u001b[1;33m\u001b[0m\u001b[1;33m\u001b[0m\u001b[0m\n",
      "\u001b[1;31mNameError\u001b[0m: name 'user_df' is not defined"
     ]
    }
   ],
   "source": [
    "for i, row in user_df.iterrows():\n",
    "    cur.execute(user_table_insert, row)\n",
    "    conn.commit()"
   ]
  },
  {
   "cell_type": "markdown",
   "metadata": {},
   "source": [
    "Run `test.ipynb` to see if you've successfully added records to this table."
   ]
  },
  {
   "cell_type": "markdown",
   "metadata": {},
   "source": [
    "## #5: `songplays` Table\n",
    "#### Extract Data and Songplays Table\n",
    "This one is a little more complicated since information from the songs table, artists table, and original log file are all needed for the `songplays` table. Since the log file does not specify an ID for either the song or the artist, you'll need to get the song ID and artist ID by querying the songs and artists tables to find matches based on song title, artist name, and song duration time.\n",
    "- Implement the `song_select` query in `sql_queries.py` to find the song ID and artist ID based on the title, artist name, and duration of a song.\n",
    "- Select the timestamp, user ID, level, song ID, artist ID, session ID, location, and user agent and set to `songplay_data`\n",
    "\n",
    "#### Insert Records into Songplays Table\n",
    "- Implement the `songplay_table_insert` query and run the cell below to insert records for the songplay actions in this log file into the `songplays` table. Remember to run `create_tables.py` before running the cell below to ensure you've created/resetted the `songplays` table in the sparkify database."
   ]
  },
  {
   "cell_type": "code",
   "execution_count": 22,
   "metadata": {},
   "outputs": [
    {
     "data": {
      "text/html": [
       "<div>\n",
       "<style scoped>\n",
       "    .dataframe tbody tr th:only-of-type {\n",
       "        vertical-align: middle;\n",
       "    }\n",
       "\n",
       "    .dataframe tbody tr th {\n",
       "        vertical-align: top;\n",
       "    }\n",
       "\n",
       "    .dataframe thead th {\n",
       "        text-align: right;\n",
       "    }\n",
       "</style>\n",
       "<table border=\"1\" class=\"dataframe\">\n",
       "  <thead>\n",
       "    <tr style=\"text-align: right;\">\n",
       "      <th></th>\n",
       "      <th>artist</th>\n",
       "      <th>auth</th>\n",
       "      <th>firstName</th>\n",
       "      <th>gender</th>\n",
       "      <th>itemInSession</th>\n",
       "      <th>lastName</th>\n",
       "      <th>length</th>\n",
       "      <th>level</th>\n",
       "      <th>location</th>\n",
       "      <th>method</th>\n",
       "      <th>page</th>\n",
       "      <th>registration</th>\n",
       "      <th>sessionId</th>\n",
       "      <th>song</th>\n",
       "      <th>status</th>\n",
       "      <th>ts</th>\n",
       "      <th>userAgent</th>\n",
       "      <th>userId</th>\n",
       "      <th>start_time</th>\n",
       "    </tr>\n",
       "  </thead>\n",
       "  <tbody>\n",
       "    <tr>\n",
       "      <th>2</th>\n",
       "      <td>Des'ree</td>\n",
       "      <td>Logged In</td>\n",
       "      <td>Kaylee</td>\n",
       "      <td>F</td>\n",
       "      <td>1</td>\n",
       "      <td>Summers</td>\n",
       "      <td>246.30812</td>\n",
       "      <td>free</td>\n",
       "      <td>Phoenix-Mesa-Scottsdale, AZ</td>\n",
       "      <td>PUT</td>\n",
       "      <td>NextSong</td>\n",
       "      <td>1540344794796</td>\n",
       "      <td>139</td>\n",
       "      <td>You Gotta Be</td>\n",
       "      <td>200</td>\n",
       "      <td>2018-11-01 21:01:46.796</td>\n",
       "      <td>\"Mozilla/5.0 (Windows NT 6.1; WOW64) AppleWebK...</td>\n",
       "      <td>8</td>\n",
       "      <td>21:01:46.796000</td>\n",
       "    </tr>\n",
       "    <tr>\n",
       "      <th>4</th>\n",
       "      <td>Mr Oizo</td>\n",
       "      <td>Logged In</td>\n",
       "      <td>Kaylee</td>\n",
       "      <td>F</td>\n",
       "      <td>3</td>\n",
       "      <td>Summers</td>\n",
       "      <td>144.03873</td>\n",
       "      <td>free</td>\n",
       "      <td>Phoenix-Mesa-Scottsdale, AZ</td>\n",
       "      <td>PUT</td>\n",
       "      <td>NextSong</td>\n",
       "      <td>1540344794796</td>\n",
       "      <td>139</td>\n",
       "      <td>Flat 55</td>\n",
       "      <td>200</td>\n",
       "      <td>2018-11-01 21:05:52.796</td>\n",
       "      <td>\"Mozilla/5.0 (Windows NT 6.1; WOW64) AppleWebK...</td>\n",
       "      <td>8</td>\n",
       "      <td>21:05:52.796000</td>\n",
       "    </tr>\n",
       "    <tr>\n",
       "      <th>5</th>\n",
       "      <td>Tamba Trio</td>\n",
       "      <td>Logged In</td>\n",
       "      <td>Kaylee</td>\n",
       "      <td>F</td>\n",
       "      <td>4</td>\n",
       "      <td>Summers</td>\n",
       "      <td>177.18812</td>\n",
       "      <td>free</td>\n",
       "      <td>Phoenix-Mesa-Scottsdale, AZ</td>\n",
       "      <td>PUT</td>\n",
       "      <td>NextSong</td>\n",
       "      <td>1540344794796</td>\n",
       "      <td>139</td>\n",
       "      <td>Quem Quiser Encontrar O Amor</td>\n",
       "      <td>200</td>\n",
       "      <td>2018-11-01 21:08:16.796</td>\n",
       "      <td>\"Mozilla/5.0 (Windows NT 6.1; WOW64) AppleWebK...</td>\n",
       "      <td>8</td>\n",
       "      <td>21:08:16.796000</td>\n",
       "    </tr>\n",
       "    <tr>\n",
       "      <th>6</th>\n",
       "      <td>The Mars Volta</td>\n",
       "      <td>Logged In</td>\n",
       "      <td>Kaylee</td>\n",
       "      <td>F</td>\n",
       "      <td>5</td>\n",
       "      <td>Summers</td>\n",
       "      <td>380.42077</td>\n",
       "      <td>free</td>\n",
       "      <td>Phoenix-Mesa-Scottsdale, AZ</td>\n",
       "      <td>PUT</td>\n",
       "      <td>NextSong</td>\n",
       "      <td>1540344794796</td>\n",
       "      <td>139</td>\n",
       "      <td>Eriatarka</td>\n",
       "      <td>200</td>\n",
       "      <td>2018-11-01 21:11:13.796</td>\n",
       "      <td>\"Mozilla/5.0 (Windows NT 6.1; WOW64) AppleWebK...</td>\n",
       "      <td>8</td>\n",
       "      <td>21:11:13.796000</td>\n",
       "    </tr>\n",
       "    <tr>\n",
       "      <th>7</th>\n",
       "      <td>Infected Mushroom</td>\n",
       "      <td>Logged In</td>\n",
       "      <td>Kaylee</td>\n",
       "      <td>F</td>\n",
       "      <td>6</td>\n",
       "      <td>Summers</td>\n",
       "      <td>440.26730</td>\n",
       "      <td>free</td>\n",
       "      <td>Phoenix-Mesa-Scottsdale, AZ</td>\n",
       "      <td>PUT</td>\n",
       "      <td>NextSong</td>\n",
       "      <td>1540344794796</td>\n",
       "      <td>139</td>\n",
       "      <td>Becoming Insane</td>\n",
       "      <td>200</td>\n",
       "      <td>2018-11-01 21:17:33.796</td>\n",
       "      <td>\"Mozilla/5.0 (Windows NT 6.1; WOW64) AppleWebK...</td>\n",
       "      <td>8</td>\n",
       "      <td>21:17:33.796000</td>\n",
       "    </tr>\n",
       "  </tbody>\n",
       "</table>\n",
       "</div>"
      ],
      "text/plain": [
       "              artist       auth firstName gender  itemInSession lastName  \\\n",
       "2            Des'ree  Logged In    Kaylee      F              1  Summers   \n",
       "4            Mr Oizo  Logged In    Kaylee      F              3  Summers   \n",
       "5         Tamba Trio  Logged In    Kaylee      F              4  Summers   \n",
       "6     The Mars Volta  Logged In    Kaylee      F              5  Summers   \n",
       "7  Infected Mushroom  Logged In    Kaylee      F              6  Summers   \n",
       "\n",
       "      length level                     location method      page  \\\n",
       "2  246.30812  free  Phoenix-Mesa-Scottsdale, AZ    PUT  NextSong   \n",
       "4  144.03873  free  Phoenix-Mesa-Scottsdale, AZ    PUT  NextSong   \n",
       "5  177.18812  free  Phoenix-Mesa-Scottsdale, AZ    PUT  NextSong   \n",
       "6  380.42077  free  Phoenix-Mesa-Scottsdale, AZ    PUT  NextSong   \n",
       "7  440.26730  free  Phoenix-Mesa-Scottsdale, AZ    PUT  NextSong   \n",
       "\n",
       "    registration  sessionId                          song  status  \\\n",
       "2  1540344794796        139                  You Gotta Be     200   \n",
       "4  1540344794796        139                       Flat 55     200   \n",
       "5  1540344794796        139  Quem Quiser Encontrar O Amor     200   \n",
       "6  1540344794796        139                     Eriatarka     200   \n",
       "7  1540344794796        139               Becoming Insane     200   \n",
       "\n",
       "                       ts                                          userAgent  \\\n",
       "2 2018-11-01 21:01:46.796  \"Mozilla/5.0 (Windows NT 6.1; WOW64) AppleWebK...   \n",
       "4 2018-11-01 21:05:52.796  \"Mozilla/5.0 (Windows NT 6.1; WOW64) AppleWebK...   \n",
       "5 2018-11-01 21:08:16.796  \"Mozilla/5.0 (Windows NT 6.1; WOW64) AppleWebK...   \n",
       "6 2018-11-01 21:11:13.796  \"Mozilla/5.0 (Windows NT 6.1; WOW64) AppleWebK...   \n",
       "7 2018-11-01 21:17:33.796  \"Mozilla/5.0 (Windows NT 6.1; WOW64) AppleWebK...   \n",
       "\n",
       "   userId       start_time  \n",
       "2       8  21:01:46.796000  \n",
       "4       8  21:05:52.796000  \n",
       "5       8  21:08:16.796000  \n",
       "6       8  21:11:13.796000  \n",
       "7       8  21:17:33.796000  "
      ]
     },
     "execution_count": 22,
     "metadata": {},
     "output_type": "execute_result"
    }
   ],
   "source": [
    "df.head()"
   ]
  },
  {
   "cell_type": "code",
   "execution_count": 23,
   "metadata": {},
   "outputs": [],
   "source": [
    "# art_col = df[['artist_id','artist_name','artist_location','artist_latitude','artist_longitude']]\n",
    "# ad = art_col.values.tolist()\n",
    "# artist_data = ad\n",
    "# artist_data\n",
    "df['userAgent'] = df['userAgent'].str.strip('\"\"')\n",
    "# df['userId'].replace(0,1)\n",
    "df.head()\n",
    "\n"
   ]
  },
  {
   "cell_type": "code",
   "execution_count": 24,
   "metadata": {},
   "outputs": [],
   "source": [
    "for index, row in df.iterrows():\n",
    "\n",
    "    # get songid and artistid from song and artist tables\n",
    "    cur.execute(song_select, (row.song, row.artist, row.length))\n",
    "    results = cur.fetchall()\n",
    "    if results:\n",
    "        song_id, artist_id = results\n",
    "    else:\n",
    "        song_id, artist_id = None, None\n",
    "\n",
    "    # # insert songplay record\n",
    "    songplay_data = (row.start_time, str(row.userId), row.level, song_id, artist_id, row.sessionId, row.location, row.userAgent)\n",
    "    cur.execute(songplay_table_insert, songplay_data)\n",
    "    conn.commit()"
   ]
  },
  {
   "cell_type": "markdown",
   "metadata": {},
   "source": [
    "Run `test.ipynb` to see if you've successfully added records to this table."
   ]
  },
  {
   "cell_type": "markdown",
   "metadata": {},
   "source": [
    "# Close Connection to Sparkify Database"
   ]
  },
  {
   "cell_type": "code",
   "execution_count": 25,
   "metadata": {},
   "outputs": [],
   "source": [
    "conn.close()"
   ]
  },
  {
   "cell_type": "markdown",
   "metadata": {},
   "source": [
    "# Implement `etl.py`\n",
    "Use what you've completed in this notebook to implement `etl.py`."
   ]
  },
  {
   "cell_type": "code",
   "execution_count": null,
   "metadata": {},
   "outputs": [],
   "source": []
  }
 ],
 "metadata": {
  "interpreter": {
   "hash": "da8a1417efcc682dfdeb7a7ee154a65a672b0374a431eceb49d1394aff81cba9"
  },
  "kernelspec": {
   "display_name": "Python 3.9.7 64-bit (windows store)",
   "name": "python3"
  },
  "language_info": {
   "codemirror_mode": {
    "name": "ipython",
    "version": 3
   },
   "file_extension": ".py",
   "mimetype": "text/x-python",
   "name": "python",
   "nbconvert_exporter": "python",
   "pygments_lexer": "ipython3",
   "version": "3.9.7"
  }
 },
 "nbformat": 4,
 "nbformat_minor": 2
}
